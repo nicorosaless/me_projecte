{
 "cells": [
  {
   "cell_type": "code",
   "execution_count": 1,
   "id": "7c5c7058",
   "metadata": {},
   "outputs": [
    {
     "name": "stdout",
     "output_type": "stream",
     "text": [
      "Reading the CSV file...\n",
      "Columns with more than 80.0% missing values: ['RIDAGEMN', 'DMQADFC', 'DMDYRSUS', 'RIDEXPRG']\n",
      "Dropped 4 columns.\n",
      "Cleaned CSV saved back to 'data/demographic.csv'.\n"
     ]
    }
   ],
   "source": [
    "import pandas as pd\n",
    "import sys\n",
    "import os\n",
    "\n",
    "# Path to the CSV file\n",
    "csv_file = 'data/demographic.csv'\n",
    "\n",
    "# Check if file exists\n",
    "if not os.path.exists(csv_file):\n",
    "    print(f\"Error: File '{csv_file}' not found in the current directory.\")\n",
    "    sys.exit(1)\n",
    "\n",
    "# Read the CSV file\n",
    "print(\"Reading the CSV file...\")\n",
    "df = pd.read_csv(csv_file)\n",
    "\n",
    "# Replace empty strings with NaN to treat them as missing values\n",
    "df.replace('', pd.NA, inplace=True)\n",
    "\n",
    "# Threshold for missing values (80%)\n",
    "threshold = 0.8\n",
    "\n",
    "# Find columns to drop\n",
    "cols_to_drop = [col for col in df.columns if df[col].isna().sum() / len(df) > threshold]\n",
    "\n",
    "print(f\"Columns with more than {threshold * 100}% missing values: {cols_to_drop}\")\n",
    "\n",
    "# Drop the columns\n",
    "if cols_to_drop:\n",
    "    df.drop(columns=cols_to_drop, inplace=True)\n",
    "    print(f\"Dropped {len(cols_to_drop)} columns.\")\n",
    "else:\n",
    "    print(\"No columns to drop.\")\n",
    "\n",
    "# Write the cleaned DataFrame back to the CSV file\n",
    "df.to_csv(csv_file, index=False)\n",
    "print(f\"Cleaned CSV saved back to '{csv_file}'.\")"
   ]
  }
 ],
 "metadata": {
  "kernelspec": {
   "display_name": ".venv",
   "language": "python",
   "name": "python3"
  },
  "language_info": {
   "codemirror_mode": {
    "name": "ipython",
    "version": 3
   },
   "file_extension": ".py",
   "mimetype": "text/x-python",
   "name": "python",
   "nbconvert_exporter": "python",
   "pygments_lexer": "ipython3",
   "version": "3.11.1"
  }
 },
 "nbformat": 4,
 "nbformat_minor": 5
}
